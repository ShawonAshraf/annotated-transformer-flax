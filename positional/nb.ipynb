{
 "cells": [
  {
   "cell_type": "code",
   "execution_count": 1,
   "metadata": {},
   "outputs": [],
   "source": [
    "import jax\n",
    "import jax.numpy as jnp\n",
    "from absolute import AbsolutePositionalEncoder\n",
    "from plotter import plot_encoding"
   ]
  },
  {
   "cell_type": "code",
   "execution_count": 2,
   "metadata": {},
   "outputs": [],
   "source": [
    "d_model = 32\n",
    "max_len = 64\n",
    "\n",
    "x = jnp.zeros((1, max_len, d_model))"
   ]
  },
  {
   "cell_type": "markdown",
   "metadata": {},
   "source": [
    "## Absolute"
   ]
  },
  {
   "cell_type": "code",
   "execution_count": 3,
   "metadata": {},
   "outputs": [
    {
     "data": {
      "text/plain": [
       "{}"
      ]
     },
     "execution_count": 3,
     "metadata": {},
     "output_type": "execute_result"
    }
   ],
   "source": [
    "encoder = AbsolutePositionalEncoder(d_model=d_model, max_len=max_len)\n",
    "abs_key = jax.random.key(0)\n",
    "\n",
    "variables = encoder.init(abs_key, x)\n",
    "variables"
   ]
  },
  {
   "cell_type": "code",
   "execution_count": 4,
   "metadata": {},
   "outputs": [],
   "source": [
    "encoding = encoder.apply(variables, x)"
   ]
  },
  {
   "cell_type": "code",
   "execution_count": 5,
   "metadata": {},
   "outputs": [
    {
     "data": {
      "text/html": [
       "\n",
       "<style>\n",
       "  #altair-viz-d201a218ca68454b8622d983591768f4.vega-embed {\n",
       "    width: 100%;\n",
       "    display: flex;\n",
       "  }\n",
       "\n",
       "  #altair-viz-d201a218ca68454b8622d983591768f4.vega-embed details,\n",
       "  #altair-viz-d201a218ca68454b8622d983591768f4.vega-embed details summary {\n",
       "    position: relative;\n",
       "  }\n",
       "</style>\n",
       "<div id=\"altair-viz-d201a218ca68454b8622d983591768f4\"></div>\n",
       "<script type=\"text/javascript\">\n",
       "  var VEGA_DEBUG = (typeof VEGA_DEBUG == \"undefined\") ? {} : VEGA_DEBUG;\n",
       "  (function(spec, embedOpt){\n",
       "    let outputDiv = document.currentScript.previousElementSibling;\n",
       "    if (outputDiv.id !== \"altair-viz-d201a218ca68454b8622d983591768f4\") {\n",
       "      outputDiv = document.getElementById(\"altair-viz-d201a218ca68454b8622d983591768f4\");\n",
       "    }\n",
       "\n",
       "    const paths = {\n",
       "      \"vega\": \"https://cdn.jsdelivr.net/npm/vega@5?noext\",\n",
       "      \"vega-lib\": \"https://cdn.jsdelivr.net/npm/vega-lib?noext\",\n",
       "      \"vega-lite\": \"https://cdn.jsdelivr.net/npm/vega-lite@5.20.1?noext\",\n",
       "      \"vega-embed\": \"https://cdn.jsdelivr.net/npm/vega-embed@6?noext\",\n",
       "    };\n",
       "\n",
       "    function maybeLoadScript(lib, version) {\n",
       "      var key = `${lib.replace(\"-\", \"\")}_version`;\n",
       "      return (VEGA_DEBUG[key] == version) ?\n",
       "        Promise.resolve(paths[lib]) :\n",
       "        new Promise(function(resolve, reject) {\n",
       "          var s = document.createElement('script');\n",
       "          document.getElementsByTagName(\"head\")[0].appendChild(s);\n",
       "          s.async = true;\n",
       "          s.onload = () => {\n",
       "            VEGA_DEBUG[key] = version;\n",
       "            return resolve(paths[lib]);\n",
       "          };\n",
       "          s.onerror = () => reject(`Error loading script: ${paths[lib]}`);\n",
       "          s.src = paths[lib];\n",
       "        });\n",
       "    }\n",
       "\n",
       "    function showError(err) {\n",
       "      outputDiv.innerHTML = `<div class=\"error\" style=\"color:red;\">${err}</div>`;\n",
       "      throw err;\n",
       "    }\n",
       "\n",
       "    function displayChart(vegaEmbed) {\n",
       "      vegaEmbed(outputDiv, spec, embedOpt)\n",
       "        .catch(err => showError(`Javascript Error: ${err.message}<br>This usually means there's a typo in your chart specification. See the javascript console for the full traceback.`));\n",
       "    }\n",
       "\n",
       "    if(typeof define === \"function\" && define.amd) {\n",
       "      requirejs.config({paths});\n",
       "      let deps = [\"vega-embed\"];\n",
       "      require(deps, displayChart, err => showError(`Error loading script: ${err.message}`));\n",
       "    } else {\n",
       "      maybeLoadScript(\"vega\", \"5\")\n",
       "        .then(() => maybeLoadScript(\"vega-lite\", \"5.20.1\"))\n",
       "        .then(() => maybeLoadScript(\"vega-embed\", \"6\"))\n",
       "        .catch(showError)\n",
       "        .then(() => displayChart(vegaEmbed));\n",
       "    }\n",
       "  })({\"config\": {\"view\": {\"continuousWidth\": 300, \"continuousHeight\": 300}}, \"data\": {\"name\": \"data-50b232588255ebf0f3439eaef450146b\"}, \"mark\": {\"type\": \"line\"}, \"encoding\": {\"color\": {\"field\": \"dimension\", \"type\": \"nominal\"}, \"x\": {\"field\": \"position\", \"type\": \"quantitative\"}, \"y\": {\"field\": \"embedding\", \"type\": \"quantitative\"}}, \"params\": [{\"name\": \"param_1\", \"select\": {\"type\": \"interval\", \"encodings\": [\"x\", \"y\"]}, \"bind\": \"scales\"}], \"width\": 800, \"$schema\": \"https://vega.github.io/schema/vega-lite/v5.20.1.json\", \"datasets\": {\"data-50b232588255ebf0f3439eaef450146b\": [{\"embedding\": 0.0, \"dimension\": 2, \"position\": 0}, {\"embedding\": 0.5331684350967407, \"dimension\": 2, \"position\": 1}, {\"embedding\": 0.9021307229995728, \"dimension\": 2, \"position\": 2}, {\"embedding\": 0.9932531714439392, \"dimension\": 2, \"position\": 3}, {\"embedding\": 0.7784717679023743, \"dimension\": 2, \"position\": 4}, {\"embedding\": 0.32393521070480347, \"dimension\": 2, \"position\": 5}, {\"embedding\": -0.2303674817085266, \"dimension\": 2, \"position\": 6}, {\"embedding\": -0.7137211561203003, \"dimension\": 2, \"position\": 7}, {\"embedding\": -0.9772617220878601, \"dimension\": 2, \"position\": 8}, {\"embedding\": -0.9398235082626343, \"dimension\": 2, \"position\": 9}, {\"embedding\": -0.6129367351531982, \"dimension\": 2, \"position\": 10}, {\"embedding\": -0.09727665781974792, \"dimension\": 2, \"position\": 11}, {\"embedding\": 0.448342889547348, \"dimension\": 2, \"position\": 12}, {\"embedding\": 0.8558809757232666, \"dimension\": 2, \"position\": 13}, {\"embedding\": 0.9998233318328857, \"dimension\": 2, \"position\": 14}, {\"embedding\": 0.8358383178710938, \"dimension\": 2, \"position\": 15}, {\"embedding\": 0.41443032026290894, \"dimension\": 2, \"position\": 16}, {\"embedding\": -0.13461466133594513, \"dimension\": 2, \"position\": 17}, {\"embedding\": -0.642200767993927, \"dimension\": 2, \"position\": 18}, {\"embedding\": -0.9520007371902466, \"dimension\": 2, \"position\": 19}, {\"embedding\": -0.9686018824577332, \"dimension\": 2, \"position\": 20}, {\"embedding\": -0.6868912577629089, \"dimension\": 2, \"position\": 21}, {\"embedding\": -0.1936306208372116, \"dimension\": 2, \"position\": 22}, {\"embedding\": 0.35926470160484314, \"dimension\": 2, \"position\": 23}, {\"embedding\": 0.8015130162239075, \"dimension\": 2, \"position\": 24}, {\"embedding\": 0.9969099760055542, \"dimension\": 2, \"position\": 25}, {\"embedding\": 0.8852767944335938, \"dimension\": 2, \"position\": 26}, {\"embedding\": 0.5009945034980774, \"dimension\": 2, \"position\": 27}, {\"embedding\": -0.03758498281240463, \"dimension\": 2, \"position\": 28}, {\"embedding\": -0.5645889639854431, \"dimension\": 2, \"position\": 29}, {\"embedding\": -0.9177098274230957, \"dimension\": 2, \"position\": 30}, {\"embedding\": -0.9881927967071533, \"dimension\": 2, \"position\": 31}, {\"embedding\": -0.7543303966522217, \"dimension\": 2, \"position\": 32}, {\"embedding\": -0.2881479561328888, \"dimension\": 2, \"position\": 33}, {\"embedding\": 0.2667787969112396, \"dimension\": 2, \"position\": 34}, {\"embedding\": 0.739542543888092, \"dimension\": 2, \"position\": 35}, {\"embedding\": 0.9845406413078308, \"dimension\": 2, \"position\": 36}, {\"embedding\": 0.9263181686401367, \"dimension\": 2, \"position\": 37}, {\"embedding\": 0.5828065872192383, \"dimension\": 2, \"position\": 38}, {\"embedding\": 0.059801191091537476, \"dimension\": 2, \"position\": 39}, {\"embedding\": -0.4816218912601471, \"dimension\": 2, \"position\": 40}, {\"embedding\": -0.874714195728302, \"dimension\": 2, \"position\": 41}, {\"embedding\": -0.9984104633331299, \"dimension\": 2, \"position\": 42}, {\"embedding\": -0.8146145343780518, \"dimension\": 2, \"position\": 43}, {\"embedding\": -0.37993213534355164, \"dimension\": 2, \"position\": 44}, {\"embedding\": 0.17176242172718048, \"dimension\": 2, \"position\": 45}, {\"embedding\": 0.6705572605133057, \"dimension\": 2, \"position\": 46}, {\"embedding\": 0.9628326892852783, \"dimension\": 2, \"position\": 47}, {\"embedding\": 0.9585732221603394, \"dimension\": 2, \"position\": 48}, {\"embedding\": 0.6590906381607056, \"dimension\": 2, \"position\": 49}, {\"embedding\": 0.15662014484405518, \"dimension\": 2, \"position\": 50}, {\"embedding\": -0.3940865099430084, \"dimension\": 2, \"position\": 51}, {\"embedding\": -0.8234216570854187, \"dimension\": 2, \"position\": 52}, {\"embedding\": -0.9991579651832581, \"dimension\": 2, \"position\": 53}, {\"embedding\": -0.8671718239784241, \"dimension\": 2, \"position\": 54}, {\"embedding\": -0.4681125581264496, \"dimension\": 2, \"position\": 55}, {\"embedding\": 0.0751168504357338, \"dimension\": 2, \"position\": 56}, {\"embedding\": 0.5952116250991821, \"dimension\": 2, \"position\": 57}, {\"embedding\": 0.9319921135902405, \"dimension\": 2, \"position\": 58}, {\"embedding\": 0.9817359447479248, \"dimension\": 2, \"position\": 59}, {\"embedding\": 0.729123055934906, \"dimension\": 2, \"position\": 60}, {\"embedding\": 0.25195351243019104, \"dimension\": 2, \"position\": 61}, {\"embedding\": -0.3028131127357483, \"dimension\": 2, \"position\": 62}, {\"embedding\": -0.7643188238143921, \"dimension\": 2, \"position\": 63}, {\"embedding\": 1.0, \"dimension\": 5, \"position\": 0}, {\"embedding\": 0.9504152536392212, \"dimension\": 5, \"position\": 1}, {\"embedding\": 0.8065783977508545, \"dimension\": 5, \"position\": 2}, {\"embedding\": 0.582753598690033, \"dimension\": 5, \"position\": 3}, {\"embedding\": 0.3011374771595001, \"dimension\": 5, \"position\": 4}, {\"embedding\": -0.010342318564653397, \"dimension\": 5, \"position\": 5}, {\"embedding\": -0.3207964599132538, \"dimension\": 5, \"position\": 6}, {\"embedding\": -0.599437415599823, \"dimension\": 5, \"position\": 7}, {\"embedding\": -0.8186324834823608, \"dimension\": 5, \"position\": 8}, {\"embedding\": -0.9566441774368286, \"dimension\": 5, \"position\": 9}, {\"embedding\": -0.9997860789299011, \"dimension\": 5, \"position\": 10}, {\"embedding\": -0.943779706954956, \"dimension\": 5, \"position\": 11}, {\"embedding\": -0.7941792607307434, \"dimension\": 5, \"position\": 12}, {\"embedding\": -0.5658205151557922, \"dimension\": 5, \"position\": 13}, {\"embedding\": -0.28134962916374207, \"dimension\": 5, \"position\": 14}, {\"embedding\": 0.031022531911730766, \"dimension\": 5, \"position\": 15}, {\"embedding\": 0.3403182029724121, \"dimension\": 5, \"position\": 16}, {\"embedding\": 0.6158646941184998, \"dimension\": 5, \"position\": 17}, {\"embedding\": 0.8303362727165222, \"dimension\": 5, \"position\": 18}, {\"embedding\": 0.9624637961387634, \"dimension\": 5, \"position\": 19}, {\"embedding\": 0.9991443753242493, \"dimension\": 5, \"position\": 20}, {\"embedding\": 0.9367403388023376, \"dimension\": 5, \"position\": 21}, {\"embedding\": 0.7814403176307678, \"dimension\": 5, \"position\": 22}, {\"embedding\": 0.5486453175544739, \"dimension\": 5, \"position\": 23}, {\"embedding\": 0.2614414095878601, \"dimension\": 5, \"position\": 24}, {\"embedding\": -0.051689472049474716, \"dimension\": 5, \"position\": 25}, {\"embedding\": -0.35969433188438416, \"dimension\": 5, \"position\": 26}, {\"embedding\": -0.6320285201072693, \"dimension\": 5, \"position\": 27}, {\"embedding\": -0.8416847586631775, \"dimension\": 5, \"position\": 28}, {\"embedding\": -0.9678716063499451, \"dimension\": 5, \"position\": 29}, {\"embedding\": -0.9980751872062683, \"dimension\": 5, \"position\": 30}, {\"embedding\": -0.9293001890182495, \"dimension\": 5, \"position\": 31}, {\"embedding\": -0.7683670520782471, \"dimension\": 5, \"position\": 32}, {\"embedding\": -0.5312353372573853, \"dimension\": 5, \"position\": 33}, {\"embedding\": -0.24142132699489594, \"dimension\": 5, \"position\": 34}, {\"embedding\": 0.07233429700136185, \"dimension\": 5, \"position\": 35}, {\"embedding\": 0.37891656160354614, \"dimension\": 5, \"position\": 36}, {\"embedding\": 0.6479219198226929, \"dimension\": 5, \"position\": 37}, {\"embedding\": 0.8526731729507446, \"dimension\": 5, \"position\": 38}, {\"embedding\": 0.9728653430938721, \"dimension\": 5, \"position\": 39}, {\"embedding\": 0.9965789914131165, \"dimension\": 5, \"position\": 40}, {\"embedding\": 0.9214624762535095, \"dimension\": 5, \"position\": 41}, {\"embedding\": 0.7549650073051453, \"dimension\": 5, \"position\": 42}, {\"embedding\": 0.5135980844497681, \"dimension\": 5, \"position\": 43}, {\"embedding\": 0.2212979644536972, \"dimension\": 5, \"position\": 44}, {\"embedding\": -0.09294816851615906, \"dimension\": 5, \"position\": 45}, {\"embedding\": -0.39797669649124146, \"dimension\": 5, \"position\": 46}, {\"embedding\": -0.6635380983352661, \"dimension\": 5, \"position\": 47}, {\"embedding\": -0.8632968068122864, \"dimension\": 5, \"position\": 48}, {\"embedding\": -0.9774428009986877, \"dimension\": 5, \"position\": 49}, {\"embedding\": -0.9946563839912415, \"dimension\": 5, \"position\": 50}, {\"embedding\": -0.9132304787635803, \"dimension\": 5, \"position\": 51}, {\"embedding\": -0.7412399649620056, \"dimension\": 5, \"position\": 52}, {\"embedding\": -0.4957411289215088, \"dimension\": 5, \"position\": 53}, {\"embedding\": -0.20107991993427277, \"dimension\": 5, \"position\": 54}, {\"embedding\": 0.11352227628231049, \"dimension\": 5, \"position\": 55}, {\"embedding\": 0.4168665409088135, \"dimension\": 5, \"position\": 56}, {\"embedding\": 0.6788703799247742, \"dimension\": 5, \"position\": 57}, {\"embedding\": 0.8735510110855103, \"dimension\": 5, \"position\": 58}, {\"embedding\": 0.9816020727157593, \"dimension\": 5, \"position\": 59}, {\"embedding\": 0.9923082590103149, \"dimension\": 5, \"position\": 60}, {\"embedding\": 0.9046077132225037, \"dimension\": 5, \"position\": 61}, {\"embedding\": 0.7271977663040161, \"dimension\": 5, \"position\": 62}, {\"embedding\": 0.4776720404624939, \"dimension\": 5, \"position\": 63}, {\"embedding\": 1.0, \"dimension\": 7, \"position\": 0}, {\"embedding\": 0.9842302203178406, \"dimension\": 7, \"position\": 1}, {\"embedding\": 0.9374182820320129, \"dimension\": 7, \"position\": 2}, {\"embedding\": 0.8610406517982483, \"dimension\": 7, \"position\": 3}, {\"embedding\": 0.7575061917304993, \"dimension\": 7, \"position\": 4}, {\"embedding\": 0.6300802826881409, \"dimension\": 7, \"position\": 5}, {\"embedding\": 0.4827820062637329, \"dimension\": 7, \"position\": 6}, {\"embedding\": 0.3202569782733917, \"dimension\": 7, \"position\": 7}, {\"embedding\": 0.1476311981678009, \"dimension\": 7, \"position\": 8}, {\"embedding\": -0.029650796204805374, \"dimension\": 7, \"position\": 9}, {\"embedding\": -0.20599761605262756, \"dimension\": 7, \"position\": 10}, {\"embedding\": -0.37584736943244934, \"dimension\": 7, \"position\": 11}, {\"embedding\": -0.5338431000709534, \"dimension\": 7, \"position\": 12}, {\"embedding\": -0.6750016212463379, \"dimension\": 7, \"position\": 13}, {\"embedding\": -0.794870913028717, \"dimension\": 7, \"position\": 14}, {\"embedding\": -0.8896703720092773, \"dimension\": 7, \"position\": 15}, {\"embedding\": -0.9564100503921509, \"dimension\": 7, \"position\": 16}, {\"embedding\": -0.9929850101470947, \"dimension\": 7, \"position\": 17}, {\"embedding\": -0.998241662979126, \"dimension\": 7, \"position\": 18}, {\"embedding\": -0.9720142483711243, \"dimension\": 7, \"position\": 19}, {\"embedding\": -0.9151299595832825, \"dimension\": 7, \"position\": 20}, {\"embedding\": -0.8293828964233398, \"dimension\": 7, \"position\": 21}, {\"embedding\": -0.7174775004386902, \"dimension\": 7, \"position\": 22}, {\"embedding\": -0.5829432010650635, \"dimension\": 7, \"position\": 23}, {\"embedding\": -0.4300231337547302, \"dimension\": 7, \"position\": 24}, {\"embedding\": -0.2635403275489807, \"dimension\": 7, \"position\": 25}, {\"embedding\": -0.0887456089258194, \"dimension\": 7, \"position\": 26}, {\"embedding\": 0.08884811401367188, \"dimension\": 7, \"position\": 27}, {\"embedding\": 0.2636395990848541, \"dimension\": 7, \"position\": 28}, {\"embedding\": 0.43011602759361267, \"dimension\": 7, \"position\": 29}, {\"embedding\": 0.5830268263816833, \"dimension\": 7, \"position\": 30}, {\"embedding\": 0.717549204826355, \"dimension\": 7, \"position\": 31}, {\"embedding\": 0.8294404149055481, \"dimension\": 7, \"position\": 32}, {\"embedding\": 0.9151714444160461, \"dimension\": 7, \"position\": 33}, {\"embedding\": 0.9720384478569031, \"dimension\": 7, \"position\": 34}, {\"embedding\": 0.9982477426528931, \"dimension\": 7, \"position\": 35}, {\"embedding\": 0.9929728507995605, \"dimension\": 7, \"position\": 36}, {\"embedding\": 0.9563800096511841, \"dimension\": 7, \"position\": 37}, {\"embedding\": 0.8896234035491943, \"dimension\": 7, \"position\": 38}, {\"embedding\": 0.7948085069656372, \"dimension\": 7, \"position\": 39}, {\"embedding\": 0.674925684928894, \"dimension\": 7, \"position\": 40}, {\"embedding\": 0.5337560772895813, \"dimension\": 7, \"position\": 41}, {\"embedding\": 0.3757520020008087, \"dimension\": 7, \"position\": 42}, {\"embedding\": 0.20589691400527954, \"dimension\": 7, \"position\": 43}, {\"embedding\": 0.029547927901148796, \"dimension\": 7, \"position\": 44}, {\"embedding\": -0.14773298799991608, \"dimension\": 7, \"position\": 45}, {\"embedding\": -0.3203544616699219, \"dimension\": 7, \"position\": 46}, {\"embedding\": -0.4828721284866333, \"dimension\": 7, \"position\": 47}, {\"embedding\": -0.6301602125167847, \"dimension\": 7, \"position\": 48}, {\"embedding\": -0.7575733661651611, \"dimension\": 7, \"position\": 49}, {\"embedding\": -0.8610929846763611, \"dimension\": 7, \"position\": 50}, {\"embedding\": -0.9374541640281677, \"dimension\": 7, \"position\": 51}, {\"embedding\": -0.9842484593391418, \"dimension\": 7, \"position\": 52}, {\"embedding\": -1.0, \"dimension\": 7, \"position\": 53}, {\"embedding\": -0.9842120409011841, \"dimension\": 7, \"position\": 54}, {\"embedding\": -0.9373824596405029, \"dimension\": 7, \"position\": 55}, {\"embedding\": -0.8609883189201355, \"dimension\": 7, \"position\": 56}, {\"embedding\": -0.7574389576911926, \"dimension\": 7, \"position\": 57}, {\"embedding\": -0.6300004124641418, \"dimension\": 7, \"position\": 58}, {\"embedding\": -0.4826918840408325, \"dimension\": 7, \"position\": 59}, {\"embedding\": -0.3201594948768616, \"dimension\": 7, \"position\": 60}, {\"embedding\": -0.14752940833568573, \"dimension\": 7, \"position\": 61}, {\"embedding\": 0.029753662645816803, \"dimension\": 7, \"position\": 62}, {\"embedding\": 0.20609831809997559, \"dimension\": 7, \"position\": 63}, {\"embedding\": 0.0, \"dimension\": 10, \"position\": 0}, {\"embedding\": 0.05620449781417847, \"dimension\": 10, \"position\": 1}, {\"embedding\": 0.1122313141822815, \"dimension\": 10, \"position\": 2}, {\"embedding\": 0.16790330410003662, \"dimension\": 10, \"position\": 3}, {\"embedding\": 0.2230444848537445, \"dimension\": 10, \"position\": 4}, {\"embedding\": 0.2774805426597595, \"dimension\": 10, \"position\": 5}, {\"embedding\": 0.33103933930397034, \"dimension\": 10, \"position\": 6}, {\"embedding\": 0.38355156779289246, \"dimension\": 10, \"position\": 7}, {\"embedding\": 0.4348512291908264, \"dimension\": 10, \"position\": 8}, {\"embedding\": 0.4847761392593384, \"dimension\": 10, \"position\": 9}, {\"embedding\": 0.5331684350967407, \"dimension\": 10, \"position\": 10}, {\"embedding\": 0.5798751711845398, \"dimension\": 10, \"position\": 11}, {\"embedding\": 0.6247486472129822, \"dimension\": 10, \"position\": 12}, {\"embedding\": 0.6676470041275024, \"dimension\": 10, \"position\": 13}, {\"embedding\": 0.7084347009658813, \"dimension\": 10, \"position\": 14}, {\"embedding\": 0.7469826340675354, \"dimension\": 10, \"position\": 15}, {\"embedding\": 0.7831690907478333, \"dimension\": 10, \"position\": 16}, {\"embedding\": 0.8168795704841614, \"dimension\": 10, \"position\": 17}, {\"embedding\": 0.8480075001716614, \"dimension\": 10, \"position\": 18}, {\"embedding\": 0.8764545321464539, \"dimension\": 10, \"position\": 19}, {\"embedding\": 0.9021307229995728, \"dimension\": 10, \"position\": 20}, {\"embedding\": 0.9249548316001892, \"dimension\": 10, \"position\": 21}, {\"embedding\": 0.9448547959327698, \"dimension\": 10, \"position\": 22}, {\"embedding\": 0.9617676138877869, \"dimension\": 10, \"position\": 23}, {\"embedding\": 0.9756398797035217, \"dimension\": 10, \"position\": 24}, {\"embedding\": 0.9864277243614197, \"dimension\": 10, \"position\": 25}, {\"embedding\": 0.9940969944000244, \"dimension\": 10, \"position\": 26}, {\"embedding\": 0.9986234903335571, \"dimension\": 10, \"position\": 27}, {\"embedding\": 0.9999929070472717, \"dimension\": 10, \"position\": 28}, {\"embedding\": 0.9982009530067444, \"dimension\": 10, \"position\": 29}, {\"embedding\": 0.9932531714439392, \"dimension\": 10, \"position\": 30}, {\"embedding\": 0.9851652979850769, \"dimension\": 10, \"position\": 31}, {\"embedding\": 0.9739628434181213, \"dimension\": 10, \"position\": 32}, {\"embedding\": 0.9596813321113586, \"dimension\": 10, \"position\": 33}, {\"embedding\": 0.9423657655715942, \"dimension\": 10, \"position\": 34}, {\"embedding\": 0.9220710396766663, \"dimension\": 10, \"position\": 35}, {\"embedding\": 0.8988611698150635, \"dimension\": 10, \"position\": 36}, {\"embedding\": 0.872809648513794, \"dimension\": 10, \"position\": 37}, {\"embedding\": 0.8439987301826477, \"dimension\": 10, \"position\": 38}, {\"embedding\": 0.8125196099281311, \"dimension\": 10, \"position\": 39}, {\"embedding\": 0.7784717679023743, \"dimension\": 10, \"position\": 40}, {\"embedding\": 0.7419627904891968, \"dimension\": 10, \"position\": 41}, {\"embedding\": 0.7031081318855286, \"dimension\": 10, \"position\": 42}, {\"embedding\": 0.6620306372642517, \"dimension\": 10, \"position\": 43}, {\"embedding\": 0.6188601851463318, \"dimension\": 10, \"position\": 44}, {\"embedding\": 0.5737332701683044, \"dimension\": 10, \"position\": 45}, {\"embedding\": 0.5267924666404724, \"dimension\": 10, \"position\": 46}, {\"embedding\": 0.4781862795352936, \"dimension\": 10, \"position\": 47}, {\"embedding\": 0.4280683398246765, \"dimension\": 10, \"position\": 48}, {\"embedding\": 0.3765970766544342, \"dimension\": 10, \"position\": 49}, {\"embedding\": 0.32393521070480347, \"dimension\": 10, \"position\": 50}, {\"embedding\": 0.27024924755096436, \"dimension\": 10, \"position\": 51}, {\"embedding\": 0.2157088965177536, \"dimension\": 10, \"position\": 52}, {\"embedding\": 0.1604866087436676, \"dimension\": 10, \"position\": 53}, {\"embedding\": 0.10475694388151169, \"dimension\": 10, \"position\": 54}, {\"embedding\": 0.04869610071182251, \"dimension\": 10, \"position\": 55}, {\"embedding\": -0.00751869659870863, \"dimension\": 10, \"position\": 56}, {\"embedding\": -0.06370972096920013, \"dimension\": 10, \"position\": 57}, {\"embedding\": -0.11969933658838272, \"dimension\": 10, \"position\": 58}, {\"embedding\": -0.17531052231788635, \"dimension\": 10, \"position\": 59}, {\"embedding\": -0.2303674817085266, \"dimension\": 10, \"position\": 60}, {\"embedding\": -0.28469613194465637, \"dimension\": 10, \"position\": 61}, {\"embedding\": -0.33812475204467773, \"dimension\": 10, \"position\": 62}, {\"embedding\": -0.39048439264297485, \"dimension\": 10, \"position\": 63}]}}, {\"mode\": \"vega-lite\"});\n",
       "</script>"
      ],
      "text/plain": [
       "alt.Chart(...)"
      ]
     },
     "execution_count": 5,
     "metadata": {},
     "output_type": "execute_result"
    }
   ],
   "source": [
    "plot_encoding(encoding, max_len, [2, 5, 7, 10])"
   ]
  }
 ],
 "metadata": {
  "kernelspec": {
   "display_name": ".venv",
   "language": "python",
   "name": "python3"
  },
  "language_info": {
   "codemirror_mode": {
    "name": "ipython",
    "version": 3
   },
   "file_extension": ".py",
   "mimetype": "text/x-python",
   "name": "python",
   "nbconvert_exporter": "python",
   "pygments_lexer": "ipython3",
   "version": "3.12.8"
  }
 },
 "nbformat": 4,
 "nbformat_minor": 2
}
